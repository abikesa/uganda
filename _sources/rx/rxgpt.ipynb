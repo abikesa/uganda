{
 "cells": [
  {
   "cell_type": "markdown",
   "metadata": {},
   "source": [
    "(rx)=\n",
    "# Rx\n",
    "\n",
    "> *Our WebApp offers six improvements on what is available in the literature and practice: sampling distribution, absolute risks, distinct hazards by phenotype, confidence intervals for individualized risk, explicitly reveals the footprint of missingness by parameter, and personalizes risk on a kaplan-meier curve for the user* \n",
    "\n",
    "                    1. f(t)\n",
    "                          \\\n",
    "               2. S(t) -> 4. y:h'(f)=0;t(X'X).X'Y -> 5. b -> 6. SV'\n",
    "                          /\n",
    "                          3. h(t) \n",
    "                          \n",
    "\n",
    "```{margin}\n",
    "\n",
    "<Details>\n",
    "   <Summary></Summary>\n",
    "\n",
    "- f(t) Mozart\n",
    "- S(t) Bach\n",
    "- h(t) Handel\n",
    "- t(X'X).X'Y Ludwig \n",
    "- b Genres\n",
    "- SV' Chopin \n",
    "\n",
    "</Details>\n",
    "\n",
    "```\n",
    "\n",
    "## Specialist\n",
    "\n",
    "- With any individualized prediction in science, a patient can’t say “that resonates” with me. The numbers are abstract and they’ve never experienced the outcome \n",
    "- But with art or tragedy the eternal recurrence of the same is encoded in the latent-space or collective unconscious and so it can resonate\n",
    "- Our way around this is by handing the end-user an app in which they might update their risk-profile and see if it changes the risk prediction\n",
    "- If there’s no change, then we could say the app is “mirroring” humanity so abominably; the backend model has no beta-coefficients for what has been tested \n",
    "- The structure of this discourse is : $\\mu$: base-case, $\\sigma$ varcov-matrix, $\\%$ predictive-accuracy\n",
    "\n",
    "### $\\mu$ Base-case\n",
    "- $f(t)$ l'homme moyen. But with five pdf's, reflecting modalities\n",
    "   - Vision\n",
    "      - Static Images\n",
    "      - Videos (with audio)\n",
    "      - GIFs\n",
    "   - Auditory\n",
    "      - Unimodal\n",
    "      - Bimodal e.g. audiovideo\n",
    "   - Chemistry\n",
    "      - Smell (e.g. volatile substances)\n",
    "      - Blood, serum, urine, etc\n",
    "   - Language\n",
    "      - Text\n",
    "      - Audio\n",
    "      - Multilingual\n",
    "   - Tactile \n",
    "      - Palpation or echo\n",
    "      - Etc\n",
    "\n",
    "- $S(t)$ somewhere ages and ages hence  \n",
    "   - Cumulative datasets on which all the pdfs are trained\n",
    "- $h(t)$ two roads diverged in a wood, and i—\n",
    "   - Instantaneous prediction utilizing speed & a lot of data on the fly\n",
    "\n",
    "### $\\sigma$ Varcov-matrix\n",
    "- var[$(X'X)^T \\cdot X'Y$] think: the variability of courses & items in italian cuisine & modes-qualities-relatives in chopin\n",
    "   - {ref}`chatgpt`\n",
    "   - This paper only offers 6 clinical scenarios\n",
    "   - GPT models have a real edge in being \"large\" and having been trained on the entire pdf including extreme tails\n",
    "   - No clinician has the \"experience\" & ability to pay \"attention\" even to traits associated with tails & produce stable & accurate predictions\n",
    "\n",
    "### $\\%$ Predictive-accuracy\n",
    "- $\\beta$ my palate craves `very diverse things` over time & i can only tell what i want on a given day\n",
    "- $SV'$ $\\ge 85$ only a very rich culture can throw me a bone to chew on that will keep me engaged\n",
    "   - Clinicians can't be interrogated in frequent iterations without accruing a bill or their irate responses"
   ]
  },
  {
   "cell_type": "markdown",
   "metadata": {},
   "source": [
    "\n",
    "## Generalist\n",
    "\n",
    "> *Arte (Imitation) & Scienza (Prediction) = Tragedy (Representation). When the products of art, science, or tragedy resonate with us, they have been accurately decoded with all the parameter coefficients similar to our own*\n",
    "\n",
    "                         1. Observing\n",
    "                                    \\\n",
    "               2. Time = Compute -> 4. Collective Unconscious -> 5. Decoding -> 6. Imitation-Prediction-Representation\n",
    "                                    /\n",
    "                                    3. Encoding\n",
    "\n",
    "\n",
    "                                    "
   ]
  }
 ],
 "metadata": {
  "kernelspec": {
   "display_name": "Python 3",
   "language": "python",
   "name": "python3"
  },
  "language_info": {
   "codemirror_mode": {
    "name": "ipython",
    "version": 3
   },
   "file_extension": ".py",
   "mimetype": "text/x-python",
   "name": "python",
   "nbconvert_exporter": "python",
   "pygments_lexer": "ipython3",
   "version": "3.12.4"
  },
  "widgets": {
   "application/vnd.jupyter.widget-state+json": {
    "state": {},
    "version_major": 2,
    "version_minor": 0
   }
  }
 },
 "nbformat": 4,
 "nbformat_minor": 4
}
