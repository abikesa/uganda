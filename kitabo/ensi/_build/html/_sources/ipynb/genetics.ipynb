{
 "cells": [
  {
   "cell_type": "markdown",
   "metadata": {},
   "source": [
    "(genetics)=\n",
    "# Genetics\n",
    "\n",
    "<iframe width=\"100%\" height=\"600\" src=\"https://www.youtube.com/embed/6R4KVW8BbAA\" frameborder=\"0\" allow=\"accelerometer; autoplay; encrypted-media; gyroscope; picture-in-picture\" allowfullscreen></iframe>\n",
    "\n",
    "             1. f(t)\n",
    "                   \\\n",
    "        2. S(t) -> 4. y:h'(t)=0;t(X'X).X'Y -> b -> SV'\n",
    "                   /\n",
    "                   3. h(t)\n",
    "\n",
    "\n",
    "## $\\mu$, L'homme moyen  \n",
    "**Archetype**. It's an interesting observation to compare Kamala and Maya Harris to Sasha and Malia Obama based on their bi-racial `heritage` and physical resemblances to their parents. The dynamics within bi-racial families can often highlight the diversity of genetic expression, where siblings might bear more resemblance to one parent than the other.\n",
    "\n",
    "## $\\sigma$, Group\n",
    "**Stereotype**. Kamala Harris, the elder sister, does indeed resemble her father, Donald Harris, with his Jamaican heritage prominently reflected in her features. Maya Harris, the younger sister, shares more visible traits with their mother, Shyamala Gopalan, of Indian descent. Similarly, with Sasha and Malia Obama, many have noted that Malia, the elder, seems to reflect more of Barack Obama's features, while Sasha resembles their mother, Michelle Obama, more closely.\n",
    "\n",
    "## $\\%$, Subgroup\n",
    "\n",
    "**Phenotype**. These resemblances can offer a fascinating glimpse into the complexity of genetics and how `identity` is both shaped and perceived in multi-racial families. This kind of comparison also emphasizes the rich tapestry of cultural and racial backgrounds that define and enrich American society."
   ]
  }
 ],
 "metadata": {
  "kernelspec": {
   "display_name": "Python 3",
   "language": "python",
   "name": "python3"
  },
  "language_info": {
   "codemirror_mode": {
    "name": "ipython",
    "version": 3
   },
   "file_extension": ".py",
   "mimetype": "text/x-python",
   "name": "python",
   "nbconvert_exporter": "python",
   "pygments_lexer": "ipython3",
   "version": "3.12.4"
  },
  "widgets": {
   "application/vnd.jupyter.widget-state+json": {
    "state": {},
    "version_major": 2,
    "version_minor": 0
   }
  }
 },
 "nbformat": 4,
 "nbformat_minor": 4
}
