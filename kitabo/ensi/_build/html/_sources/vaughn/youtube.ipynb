{
 "cells": [
  {
   "cell_type": "markdown",
   "metadata": {},
   "source": [
    "(vaughn)=\n",
    "# Vaughn\n",
    "\n",
    "              1. Food\n",
    "                     \\\n",
    "          2. Chew -> 4. Enzymes -> 5. Assimilation -> 6. Metabolism\n",
    "                     /\n",
    "                     3. Gut\n",
    "\n",
    "<iframe width=\"100%\" height=\"600px\" src=\"https://www.youtube.com/embed/9zXiu-oGFus\" frameborder=\"0\" allow=\"accelerometer; autoplay; clipboard-write; encrypted-media; gyroscope; picture-in-picture\" allowfullscreen></iframe>\n",
    "\n",
    "\n",
    "## 1 \n",
    "- [Soulful chord progression in Eb](https://www.youtube.com/watch?v=KCX79549OWE&list=PLFPma-kbAKM3dUOzbyypgVAMjivaxQ03v)\n",
    "## 2\n",
    "- [Jaws might drop when you play this...](https://www.youtube.com/watch?v=O4yqnZQFA2A)\n",
    "\n",
    "## 3\n",
    "## 60\n",
    "\n",
    "<iframe width=\"100%\" height=\"600px\" src=\"https://www.youtube.com/embed/NrDdd3ywfag\" frameborder=\"0\" allow=\"accelerometer; autoplay; clipboard-write; encrypted-media; gyroscope; picture-in-picture\" allowfullscreen></iframe>"
   ]
  }
 ],
 "metadata": {
  "kernelspec": {
   "display_name": "Python 3",
   "language": "python",
   "name": "python3"
  },
  "language_info": {
   "codemirror_mode": {
    "name": "ipython",
    "version": 3
   },
   "file_extension": ".py",
   "mimetype": "text/x-python",
   "name": "python",
   "nbconvert_exporter": "python",
   "pygments_lexer": "ipython3",
   "version": "3.12.4"
  },
  "widgets": {
   "application/vnd.jupyter.widget-state+json": {
    "state": {},
    "version_major": 2,
    "version_minor": 0
   }
  }
 },
 "nbformat": 4,
 "nbformat_minor": 4
}
