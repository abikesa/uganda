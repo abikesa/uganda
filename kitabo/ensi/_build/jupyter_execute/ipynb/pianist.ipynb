{
 "cells": [
  {
   "cell_type": "markdown",
   "metadata": {},
   "source": [
    "(pianist)=\n",
    "# Pianist\n",
    "\n",
    "\n",
    "### `ii` Opening sequence\n",
    "- `Inferno`. Live recording of Nocturne in C`#` minor is interrupted\n",
    "- Moved to the ghetto\n",
    "- Escaped with help from friends\n",
    "\n",
    "### `V7` Two-year survival in room\n",
    "- `Purgatory`. Allied forces making ground; modes, qualities, extensions investigated in this **chord non-progression**\n",
    "\n",
    "### `i` Russian arrival\n",
    "- `Paradiso`. Moonlight-sonata-playing German officer connects with Chopin-playing Polish protagonist\n",
    "- Our protagonist gets to complete live recording of Nocturne in C`#` minor\n",
    "\n",
    "\n",
    "\n",
    "\n",
    "\n",
    "\n",
    "                                    "
   ]
  }
 ],
 "metadata": {
  "kernelspec": {
   "display_name": "Python 3",
   "language": "python",
   "name": "python3"
  },
  "language_info": {
   "codemirror_mode": {
    "name": "ipython",
    "version": 3
   },
   "file_extension": ".py",
   "mimetype": "text/x-python",
   "name": "python",
   "nbconvert_exporter": "python",
   "pygments_lexer": "ipython3",
   "version": "3.12.4"
  },
  "widgets": {
   "application/vnd.jupyter.widget-state+json": {
    "state": {},
    "version_major": 2,
    "version_minor": 0
   }
  }
 },
 "nbformat": 4,
 "nbformat_minor": 4
}