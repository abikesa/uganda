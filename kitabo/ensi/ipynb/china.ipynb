{
 "cells": [
  {
   "cell_type": "markdown",
   "metadata": {},
   "source": [
    "(china)=\n",
    "# China\n",
    "\n",
    "### Leaders | Going global \n",
    "## Chinese companies are winning the global south\n",
    "\n",
    "###### Their expansion abroad holds important lessons for Western incumbents\n",
    "\n",
    "![](https://www.economist.com/cdn-cgi/image/width=1424,quality=80,format=auto/content-assets/images/20240803_LDD001_FH.jpg)\n",
    "\n",
    "#### $\\mu$ World-order\n",
    "- $f(t)$ Handed\n",
    "- $S(t)$ Cumulative\n",
    "- $h(t)$ Instantaneous\n",
    "\n",
    "#### $\\sigma$ Global\n",
    "- $y:h'(t)=0;t(X'X).X'Y$ Variance\n",
    "\n",
    "#### $\\%$ Regional\n",
    "- $\\beta$ South\n",
    "- $SV'$ National\n"
   ]
  }
 ],
 "metadata": {
  "kernelspec": {
   "display_name": "Python 3",
   "language": "python",
   "name": "python3"
  },
  "language_info": {
   "codemirror_mode": {
    "name": "ipython",
    "version": 3
   },
   "file_extension": ".py",
   "mimetype": "text/x-python",
   "name": "python",
   "nbconvert_exporter": "python",
   "pygments_lexer": "ipython3",
   "version": "3.12.4"
  },
  "widgets": {
   "application/vnd.jupyter.widget-state+json": {
    "state": {},
    "version_major": 2,
    "version_minor": 0
   }
  }
 },
 "nbformat": 4,
 "nbformat_minor": 4
}
